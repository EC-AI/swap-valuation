{
 "cells": [
  {
   "cell_type": "code",
   "execution_count": 2,
   "id": "e794a368",
   "metadata": {},
   "outputs": [],
   "source": [
    "import numpy as np\n",
    "import pandas as pd\n",
    "\n",
    "from DiscountCurve import DiscountCurve"
   ]
  },
  {
   "cell_type": "code",
   "execution_count": 2,
   "id": "0d334da6",
   "metadata": {},
   "outputs": [],
   "source": [
    "payments = pd.read_excel('aux_curvas.xlsx', 'Ejemplo PV')\n",
    "zc = pd.read_excel('aux_curvas.xlsx', 'ZC')"
   ]
  },
  {
   "cell_type": "code",
   "execution_count": 3,
   "id": "c7ac5a22",
   "metadata": {},
   "outputs": [],
   "source": [
    "dc = DiscountCurve(zc['Fecha'], zc['ZR'], pd.Timestamp('20220901'))"
   ]
  },
  {
   "cell_type": "code",
   "execution_count": 4,
   "id": "a30a594a",
   "metadata": {},
   "outputs": [
    {
     "data": {
      "text/plain": [
       "Timestamp('2022-09-01 00:00:00')"
      ]
     },
     "execution_count": 4,
     "metadata": {},
     "output_type": "execute_result"
    }
   ],
   "source": [
    "dc.valuation_date"
   ]
  },
  {
   "cell_type": "code",
   "execution_count": 5,
   "id": "1df67cd6",
   "metadata": {},
   "outputs": [
    {
     "data": {
      "text/plain": [
       "array([0.96372635, 0.93044107, 0.90295592, 0.8775014 , 0.85318431,\n",
       "       0.82912839, 0.8057259 , 0.78272372, 0.75985309, 0.73709284,\n",
       "       0.71466782, 0.69279889, 0.67156283, 0.65099056, 0.63106128,\n",
       "       0.61354905, 0.59670179, 0.58031658, 0.56468045, 0.54963141,\n",
       "       0.53679856, 0.52461003, 0.51297061, 0.50182873, 0.49128064,\n",
       "       0.48098891, 0.47122998, 0.46192589, 0.45303363, 0.44449313])"
      ]
     },
     "execution_count": 5,
     "metadata": {},
     "output_type": "execute_result"
    }
   ],
   "source": [
    "dc.discount_factor(payments['Fecha'], pd.Timestamp('20220906'))"
   ]
  },
  {
   "cell_type": "code",
   "execution_count": 6,
   "id": "235d0ed9",
   "metadata": {},
   "outputs": [
    {
     "data": {
      "text/plain": [
       "19.8748911601052"
      ]
     },
     "execution_count": 6,
     "metadata": {},
     "output_type": "execute_result"
    }
   ],
   "source": [
    "dc.pv(payments['Fecha'], payments['Pago'], pd.Timestamp('20220906'))"
   ]
  },
  {
   "cell_type": "code",
   "execution_count": 7,
   "id": "9622a3f8",
   "metadata": {},
   "outputs": [
    {
     "data": {
      "text/plain": [
       "            Zero Rate\n",
       "2022-09-02   0.023217\n",
       "2022-09-06   0.023134\n",
       "2022-09-15   0.023148\n",
       "2022-09-22   0.023153\n",
       "2022-10-11   0.026895\n",
       "2022-11-09   0.028281\n",
       "2022-12-08   0.030378\n",
       "2023-01-10   0.032034\n",
       "2023-02-08   0.033054\n",
       "2023-03-08   0.033937\n",
       "2023-06-08   0.035751\n",
       "2023-09-08   0.036564\n",
       "2024-09-10   0.035717\n",
       "2025-09-10   0.033824\n",
       "2026-09-10   0.032526\n",
       "2027-09-09   0.031663\n",
       "2028-09-08   0.031155\n",
       "2029-09-10   0.030772\n",
       "2030-09-10   0.030546\n",
       "2031-09-10   0.030448\n",
       "2032-09-09   0.030444\n",
       "2034-09-08   0.030541\n",
       "2037-09-10   0.030639\n",
       "2042-09-10   0.029884\n",
       "2047-09-10   0.028396\n",
       "2052-09-10   0.026996"
      ]
     },
     "execution_count": 7,
     "metadata": {},
     "output_type": "execute_result"
    }
   ],
   "source": [
    "dc"
   ]
  },
  {
   "cell_type": "code",
   "execution_count": 1,
   "id": "4f1fb8a7",
   "metadata": {},
   "outputs": [],
   "source": [
    "import numpy as np\n",
    "import pandas as pd\n",
    "\n",
    "from CDS import CDS\n",
    "from DiscountCurve import DiscountCurve"
   ]
  },
  {
   "cell_type": "code",
   "execution_count": 2,
   "id": "01309b3e",
   "metadata": {},
   "outputs": [],
   "source": [
    "cds = CDS(10000000, traded_spread=134.595, start_date=pd.Timestamp('20221219'), end_date=pd.Timestamp('20271220'), cash_date=pd.Timestamp('20221219'))\n",
    "zc = pd.read_excel('curvas2.xlsx', 'Curva')\n",
    "zc['ZR'] = zc['ZR']/100\n",
    "dc = DiscountCurve(zc['Fecha'], zc['ZR'], pd.Timestamp('20221218'), interpolation_kind='previous')"
   ]
  },
  {
   "cell_type": "code",
   "execution_count": 3,
   "id": "08bcc7a4",
   "metadata": {},
   "outputs": [
    {
     "ename": "ValueError",
     "evalue": "A value in x_new is below the interpolation range.",
     "output_type": "error",
     "traceback": [
      "\u001b[1;31m---------------------------------------------------------------------------\u001b[0m",
      "\u001b[1;31mValueError\u001b[0m                                Traceback (most recent call last)",
      "Cell \u001b[1;32mIn[3], line 1\u001b[0m\n\u001b[1;32m----> 1\u001b[0m \u001b[43mcds\u001b[49m\u001b[38;5;241;43m.\u001b[39;49m\u001b[43mcash_amount\u001b[49m\u001b[43m(\u001b[49m\u001b[43mdc\u001b[49m\u001b[43m)\u001b[49m\n",
      "File \u001b[1;32mc:\\Users\\eliah\\Documents\\Banorte\\swap-valuation\\CDS.py:90\u001b[0m, in \u001b[0;36mCDS.cash_amount\u001b[1;34m(self, discount_curve)\u001b[0m\n\u001b[0;32m     88\u001b[0m survival_probabilities \u001b[38;5;241m=\u001b[39m CDS\u001b[38;5;241m.\u001b[39msurvival_p(\u001b[38;5;28mself\u001b[39m\u001b[38;5;241m.\u001b[39mconstant_hazard_rate(), \u001b[38;5;28mself\u001b[39m\u001b[38;5;241m.\u001b[39mcoupon_dates, \u001b[38;5;28mself\u001b[39m\u001b[38;5;241m.\u001b[39mstart_date)\n\u001b[0;32m     89\u001b[0m \u001b[38;5;28mself\u001b[39m\u001b[38;5;241m.\u001b[39mdiscount_curve \u001b[38;5;241m=\u001b[39m discount_curve\n\u001b[1;32m---> 90\u001b[0m \u001b[38;5;28mself\u001b[39m\u001b[38;5;241m.\u001b[39mhazard_rate \u001b[38;5;241m=\u001b[39m \u001b[38;5;28;43mself\u001b[39;49m\u001b[38;5;241;43m.\u001b[39;49m\u001b[43m_calculate_hazard_rate\u001b[49m\u001b[43m(\u001b[49m\u001b[43m)\u001b[49m\n\u001b[0;32m     91\u001b[0m survival_probabilities \u001b[38;5;241m=\u001b[39m CDS\u001b[38;5;241m.\u001b[39msurvival_p(\u001b[38;5;28mself\u001b[39m\u001b[38;5;241m.\u001b[39mhazard_rate, \u001b[38;5;28mself\u001b[39m\u001b[38;5;241m.\u001b[39mcoupon_dates, \u001b[38;5;28mself\u001b[39m\u001b[38;5;241m.\u001b[39mstart_date)\n\u001b[0;32m     92\u001b[0m \u001b[38;5;28;01mreturn\u001b[39;00m discount_curve\u001b[38;5;241m.\u001b[39mpv(\u001b[38;5;28mself\u001b[39m\u001b[38;5;241m.\u001b[39mcoupon_dates, (\u001b[38;5;28mself\u001b[39m\u001b[38;5;241m.\u001b[39mtheoretic_payments\u001b[38;5;241m-\u001b[39m\u001b[38;5;28mself\u001b[39m\u001b[38;5;241m.\u001b[39mpayments)\u001b[38;5;241m*\u001b[39msurvival_probabilities, \u001b[38;5;28mself\u001b[39m\u001b[38;5;241m.\u001b[39mcash_date)\n",
      "File \u001b[1;32mc:\\Users\\eliah\\Documents\\Banorte\\swap-valuation\\CDS.py:49\u001b[0m, in \u001b[0;36mCDS._calculate_hazard_rate\u001b[1;34m(self)\u001b[0m\n\u001b[0;32m     45\u001b[0m     protection_leg_pv \u001b[38;5;241m=\u001b[39m \u001b[38;5;28mself\u001b[39m\u001b[38;5;241m.\u001b[39mdiscount_curve\u001b[38;5;241m.\u001b[39mpv(midpoint_dates, \u001b[38;5;28mself\u001b[39m\u001b[38;5;241m.\u001b[39mnotional \u001b[38;5;241m*\u001b[39m lgd \u001b[38;5;241m*\u001b[39m default_prob, \u001b[38;5;28mself\u001b[39m\u001b[38;5;241m.\u001b[39mcash_date)\n\u001b[0;32m     47\u001b[0m     \u001b[38;5;28;01mreturn\u001b[39;00m premium_leg_pv \u001b[38;5;241m-\u001b[39m protection_leg_pv\n\u001b[1;32m---> 49\u001b[0m \u001b[38;5;28;01mreturn\u001b[39;00m \u001b[43mnewton\u001b[49m\u001b[43m(\u001b[49m\u001b[43mobjective_function\u001b[49m\u001b[43m,\u001b[49m\u001b[43m \u001b[49m\u001b[43mx0\u001b[49m\u001b[38;5;241;43m=\u001b[39;49m\u001b[38;5;241;43m0.01\u001b[39;49m\u001b[43m)\u001b[49m\n",
      "File \u001b[1;32mc:\\Users\\eliah\\AppData\\Local\\Programs\\Python\\Python310\\lib\\site-packages\\scipy\\optimize\\_zeros_py.py:333\u001b[0m, in \u001b[0;36mnewton\u001b[1;34m(func, x0, fprime, args, tol, maxiter, fprime2, x1, rtol, full_output, disp)\u001b[0m\n\u001b[0;32m    331\u001b[0m     p1 \u001b[38;5;241m=\u001b[39m x0 \u001b[38;5;241m*\u001b[39m (\u001b[38;5;241m1\u001b[39m \u001b[38;5;241m+\u001b[39m eps)\n\u001b[0;32m    332\u001b[0m     p1 \u001b[38;5;241m+\u001b[39m\u001b[38;5;241m=\u001b[39m (eps \u001b[38;5;28;01mif\u001b[39;00m p1 \u001b[38;5;241m>\u001b[39m\u001b[38;5;241m=\u001b[39m \u001b[38;5;241m0\u001b[39m \u001b[38;5;28;01melse\u001b[39;00m \u001b[38;5;241m-\u001b[39meps)\n\u001b[1;32m--> 333\u001b[0m q0 \u001b[38;5;241m=\u001b[39m \u001b[43mfunc\u001b[49m\u001b[43m(\u001b[49m\u001b[43mp0\u001b[49m\u001b[43m,\u001b[49m\u001b[43m \u001b[49m\u001b[38;5;241;43m*\u001b[39;49m\u001b[43margs\u001b[49m\u001b[43m)\u001b[49m\n\u001b[0;32m    334\u001b[0m funcalls \u001b[38;5;241m+\u001b[39m\u001b[38;5;241m=\u001b[39m \u001b[38;5;241m1\u001b[39m\n\u001b[0;32m    335\u001b[0m q1 \u001b[38;5;241m=\u001b[39m func(p1, \u001b[38;5;241m*\u001b[39margs)\n",
      "File \u001b[1;32mc:\\Users\\eliah\\Documents\\Banorte\\swap-valuation\\CDS.py:37\u001b[0m, in \u001b[0;36mCDS._calculate_hazard_rate.<locals>.objective_function\u001b[1;34m(hazard_rate)\u001b[0m\n\u001b[0;32m     32\u001b[0m sp \u001b[38;5;241m=\u001b[39m CDS\u001b[38;5;241m.\u001b[39msurvival_p(hazard_rate, \u001b[38;5;28mself\u001b[39m\u001b[38;5;241m.\u001b[39mcoupon_dates, \u001b[38;5;28mself\u001b[39m\u001b[38;5;241m.\u001b[39mstart_date)\n\u001b[0;32m     34\u001b[0m \u001b[38;5;66;03m# NPV of Premium Leg\u001b[39;00m\n\u001b[0;32m     35\u001b[0m \u001b[38;5;66;03m# Payments are (spread * notional * day_count_fraction)\u001b[39;00m\n\u001b[0;32m     36\u001b[0m \u001b[38;5;66;03m# We use theoretic_payments which are based on the traded_spread\u001b[39;00m\n\u001b[1;32m---> 37\u001b[0m premium_leg_pv \u001b[38;5;241m=\u001b[39m \u001b[38;5;28;43mself\u001b[39;49m\u001b[38;5;241;43m.\u001b[39;49m\u001b[43mdiscount_curve\u001b[49m\u001b[38;5;241;43m.\u001b[39;49m\u001b[43mpv\u001b[49m\u001b[43m(\u001b[49m\u001b[38;5;28;43mself\u001b[39;49m\u001b[38;5;241;43m.\u001b[39;49m\u001b[43mcoupon_dates\u001b[49m\u001b[43m,\u001b[49m\u001b[43m \u001b[49m\u001b[38;5;28;43mself\u001b[39;49m\u001b[38;5;241;43m.\u001b[39;49m\u001b[43mtheoretic_payments\u001b[49m\u001b[43m \u001b[49m\u001b[38;5;241;43m*\u001b[39;49m\u001b[43m \u001b[49m\u001b[43msp\u001b[49m\u001b[43m,\u001b[49m\u001b[43m \u001b[49m\u001b[38;5;28;43mself\u001b[39;49m\u001b[38;5;241;43m.\u001b[39;49m\u001b[43mcash_date\u001b[49m\u001b[43m)\u001b[49m\n\u001b[0;32m     39\u001b[0m \u001b[38;5;66;03m# NPV of Protection Leg\u001b[39;00m\n\u001b[0;32m     40\u001b[0m \u001b[38;5;66;03m# Simplified assumption: default can only happen at the midpoint of each coupon period\u001b[39;00m\n\u001b[0;32m     41\u001b[0m lgd \u001b[38;5;241m=\u001b[39m \u001b[38;5;241m1\u001b[39m \u001b[38;5;241m-\u001b[39m \u001b[38;5;28mself\u001b[39m\u001b[38;5;241m.\u001b[39mrecovery_rate\n",
      "File \u001b[1;32mc:\\Users\\eliah\\Documents\\Banorte\\swap-valuation\\DiscountCurve.py:45\u001b[0m, in \u001b[0;36mDiscountCurve.pv\u001b[1;34m(self, payment_dates, payments, pv_date)\u001b[0m\n\u001b[0;32m     44\u001b[0m \u001b[38;5;28;01mdef\u001b[39;00m \u001b[38;5;21mpv\u001b[39m(\u001b[38;5;28mself\u001b[39m, payment_dates, payments, pv_date \u001b[38;5;241m=\u001b[39m \u001b[38;5;28;01mNone\u001b[39;00m):\n\u001b[1;32m---> 45\u001b[0m     df \u001b[38;5;241m=\u001b[39m \u001b[38;5;28;43mself\u001b[39;49m\u001b[38;5;241;43m.\u001b[39;49m\u001b[43mdiscount_factor\u001b[49m\u001b[43m(\u001b[49m\u001b[43mpayment_dates\u001b[49m\u001b[43m,\u001b[49m\u001b[43m \u001b[49m\u001b[43mpv_date\u001b[49m\u001b[43m)\u001b[49m\n\u001b[0;32m     46\u001b[0m     \u001b[38;5;28;01mreturn\u001b[39;00m np\u001b[38;5;241m.\u001b[39mdot(df, payments)\n",
      "File \u001b[1;32mc:\\Users\\eliah\\Documents\\Banorte\\swap-valuation\\DiscountCurve.py:31\u001b[0m, in \u001b[0;36mDiscountCurve.discount_factor\u001b[1;34m(self, dates, pv_date)\u001b[0m\n\u001b[0;32m     28\u001b[0m \u001b[38;5;28;01mif\u001b[39;00m pv_date \u001b[38;5;129;01mis\u001b[39;00m \u001b[38;5;129;01mnot\u001b[39;00m \u001b[38;5;28;01mNone\u001b[39;00m \u001b[38;5;129;01mand\u001b[39;00m pv_date \u001b[38;5;241m<\u001b[39m \u001b[38;5;28mself\u001b[39m\u001b[38;5;241m.\u001b[39mvaluation_date:\n\u001b[0;32m     29\u001b[0m     \u001b[38;5;28;01mraise\u001b[39;00m \u001b[38;5;167;01mValueError\u001b[39;00m(\u001b[38;5;124m'\u001b[39m\u001b[38;5;124mpv_date can\u001b[39m\u001b[38;5;130;01m\\'\u001b[39;00m\u001b[38;5;124mt be prior to curve valuation date\u001b[39m\u001b[38;5;124m'\u001b[39m)\n\u001b[1;32m---> 31\u001b[0m zr \u001b[38;5;241m=\u001b[39m \u001b[38;5;28;43mself\u001b[39;49m\u001b[38;5;241;43m.\u001b[39;49m\u001b[43minterpolate_zr\u001b[49m\u001b[43m(\u001b[49m\u001b[43mdates\u001b[49m\u001b[43m)\u001b[49m\n\u001b[0;32m     32\u001b[0m days \u001b[38;5;241m=\u001b[39m \u001b[38;5;28mself\u001b[39m\u001b[38;5;241m.\u001b[39m_dates_to_relative(dates)\n\u001b[0;32m     34\u001b[0m \u001b[38;5;66;03m# If pv_date is None, we compute PV as of self.valuation_date and no adjustment is necessary\u001b[39;00m\n",
      "File \u001b[1;32mc:\\Users\\eliah\\Documents\\Banorte\\swap-valuation\\DiscountCurve.py:24\u001b[0m, in \u001b[0;36mDiscountCurve.interpolate_zr\u001b[1;34m(self, dates)\u001b[0m\n\u001b[0;32m     22\u001b[0m \u001b[38;5;28;01mdef\u001b[39;00m \u001b[38;5;21minterpolate_zr\u001b[39m(\u001b[38;5;28mself\u001b[39m, dates):\n\u001b[0;32m     23\u001b[0m     rel_dates \u001b[38;5;241m=\u001b[39m \u001b[38;5;28mself\u001b[39m\u001b[38;5;241m.\u001b[39m_dates_to_relative(dates)\n\u001b[1;32m---> 24\u001b[0m     \u001b[38;5;28;01mreturn\u001b[39;00m \u001b[38;5;28;43mself\u001b[39;49m\u001b[38;5;241;43m.\u001b[39;49m\u001b[43mrel_interpolator\u001b[49m\u001b[43m(\u001b[49m\u001b[43mrel_dates\u001b[49m\u001b[43m)\u001b[49m\n",
      "File \u001b[1;32mc:\\Users\\eliah\\AppData\\Local\\Programs\\Python\\Python310\\lib\\site-packages\\scipy\\interpolate\\_polyint.py:78\u001b[0m, in \u001b[0;36m_Interpolator1D.__call__\u001b[1;34m(self, x)\u001b[0m\n\u001b[0;32m     57\u001b[0m \u001b[38;5;250m\u001b[39m\u001b[38;5;124;03m\"\"\"\u001b[39;00m\n\u001b[0;32m     58\u001b[0m \u001b[38;5;124;03mEvaluate the interpolant\u001b[39;00m\n\u001b[0;32m     59\u001b[0m \n\u001b[1;32m   (...)\u001b[0m\n\u001b[0;32m     75\u001b[0m \n\u001b[0;32m     76\u001b[0m \u001b[38;5;124;03m\"\"\"\u001b[39;00m\n\u001b[0;32m     77\u001b[0m x, x_shape \u001b[38;5;241m=\u001b[39m \u001b[38;5;28mself\u001b[39m\u001b[38;5;241m.\u001b[39m_prepare_x(x)\n\u001b[1;32m---> 78\u001b[0m y \u001b[38;5;241m=\u001b[39m \u001b[38;5;28;43mself\u001b[39;49m\u001b[38;5;241;43m.\u001b[39;49m\u001b[43m_evaluate\u001b[49m\u001b[43m(\u001b[49m\u001b[43mx\u001b[49m\u001b[43m)\u001b[49m\n\u001b[0;32m     79\u001b[0m \u001b[38;5;28;01mreturn\u001b[39;00m \u001b[38;5;28mself\u001b[39m\u001b[38;5;241m.\u001b[39m_finish_y(y, x_shape)\n",
      "File \u001b[1;32mc:\\Users\\eliah\\AppData\\Local\\Programs\\Python\\Python310\\lib\\site-packages\\scipy\\interpolate\\_interpolate.py:695\u001b[0m, in \u001b[0;36minterp1d._evaluate\u001b[1;34m(self, x_new)\u001b[0m\n\u001b[0;32m    693\u001b[0m y_new \u001b[38;5;241m=\u001b[39m \u001b[38;5;28mself\u001b[39m\u001b[38;5;241m.\u001b[39m_call(\u001b[38;5;28mself\u001b[39m, x_new)\n\u001b[0;32m    694\u001b[0m \u001b[38;5;28;01mif\u001b[39;00m \u001b[38;5;129;01mnot\u001b[39;00m \u001b[38;5;28mself\u001b[39m\u001b[38;5;241m.\u001b[39m_extrapolate:\n\u001b[1;32m--> 695\u001b[0m     below_bounds, above_bounds \u001b[38;5;241m=\u001b[39m \u001b[38;5;28;43mself\u001b[39;49m\u001b[38;5;241;43m.\u001b[39;49m\u001b[43m_check_bounds\u001b[49m\u001b[43m(\u001b[49m\u001b[43mx_new\u001b[49m\u001b[43m)\u001b[49m\n\u001b[0;32m    696\u001b[0m     \u001b[38;5;28;01mif\u001b[39;00m \u001b[38;5;28mlen\u001b[39m(y_new) \u001b[38;5;241m>\u001b[39m \u001b[38;5;241m0\u001b[39m:\n\u001b[0;32m    697\u001b[0m         \u001b[38;5;66;03m# Note fill_value must be broadcast up to the proper size\u001b[39;00m\n\u001b[0;32m    698\u001b[0m         \u001b[38;5;66;03m# and flattened to work here\u001b[39;00m\n\u001b[0;32m    699\u001b[0m         y_new[below_bounds] \u001b[38;5;241m=\u001b[39m \u001b[38;5;28mself\u001b[39m\u001b[38;5;241m.\u001b[39m_fill_value_below\n",
      "File \u001b[1;32mc:\\Users\\eliah\\AppData\\Local\\Programs\\Python\\Python310\\lib\\site-packages\\scipy\\interpolate\\_interpolate.py:724\u001b[0m, in \u001b[0;36minterp1d._check_bounds\u001b[1;34m(self, x_new)\u001b[0m\n\u001b[0;32m    722\u001b[0m \u001b[38;5;66;03m# !! Could provide more information about which values are out of bounds\u001b[39;00m\n\u001b[0;32m    723\u001b[0m \u001b[38;5;28;01mif\u001b[39;00m \u001b[38;5;28mself\u001b[39m\u001b[38;5;241m.\u001b[39mbounds_error \u001b[38;5;129;01mand\u001b[39;00m below_bounds\u001b[38;5;241m.\u001b[39many():\n\u001b[1;32m--> 724\u001b[0m     \u001b[38;5;28;01mraise\u001b[39;00m \u001b[38;5;167;01mValueError\u001b[39;00m(\u001b[38;5;124m\"\u001b[39m\u001b[38;5;124mA value in x_new is below the interpolation \u001b[39m\u001b[38;5;124m\"\u001b[39m\n\u001b[0;32m    725\u001b[0m                      \u001b[38;5;124m\"\u001b[39m\u001b[38;5;124mrange.\u001b[39m\u001b[38;5;124m\"\u001b[39m)\n\u001b[0;32m    726\u001b[0m \u001b[38;5;28;01mif\u001b[39;00m \u001b[38;5;28mself\u001b[39m\u001b[38;5;241m.\u001b[39mbounds_error \u001b[38;5;129;01mand\u001b[39;00m above_bounds\u001b[38;5;241m.\u001b[39many():\n\u001b[0;32m    727\u001b[0m     \u001b[38;5;28;01mraise\u001b[39;00m \u001b[38;5;167;01mValueError\u001b[39;00m(\u001b[38;5;124m\"\u001b[39m\u001b[38;5;124mA value in x_new is above the interpolation \u001b[39m\u001b[38;5;124m\"\u001b[39m\n\u001b[0;32m    728\u001b[0m                      \u001b[38;5;124m\"\u001b[39m\u001b[38;5;124mrange.\u001b[39m\u001b[38;5;124m\"\u001b[39m)\n",
      "\u001b[1;31mValueError\u001b[0m: A value in x_new is below the interpolation range."
     ]
    }
   ],
   "source": [
    "cds.cash_amount(dc)"
   ]
  },
  {
   "cell_type": "code",
   "execution_count": 11,
   "id": "9393e6c7",
   "metadata": {},
   "outputs": [
    {
     "data": {
      "text/html": [
       "<div>\n",
       "<style scoped>\n",
       "    .dataframe tbody tr th:only-of-type {\n",
       "        vertical-align: middle;\n",
       "    }\n",
       "\n",
       "    .dataframe tbody tr th {\n",
       "        vertical-align: top;\n",
       "    }\n",
       "\n",
       "    .dataframe thead th {\n",
       "        text-align: right;\n",
       "    }\n",
       "</style>\n",
       "<table border=\"1\" class=\"dataframe\">\n",
       "  <thead>\n",
       "    <tr style=\"text-align: right;\">\n",
       "      <th></th>\n",
       "      <th>Date</th>\n",
       "      <th>Act. Cashflow</th>\n",
       "      <th>Discount Factor</th>\n",
       "    </tr>\n",
       "  </thead>\n",
       "  <tbody>\n",
       "    <tr>\n",
       "      <th>0</th>\n",
       "      <td>2022-12-20</td>\n",
       "      <td>25277.777778</td>\n",
       "      <td>0.999882</td>\n",
       "    </tr>\n",
       "    <tr>\n",
       "      <th>1</th>\n",
       "      <td>2023-03-20</td>\n",
       "      <td>25000.000000</td>\n",
       "      <td>0.988726</td>\n",
       "    </tr>\n",
       "    <tr>\n",
       "      <th>2</th>\n",
       "      <td>2023-06-20</td>\n",
       "      <td>25555.555556</td>\n",
       "      <td>0.976653</td>\n",
       "    </tr>\n",
       "    <tr>\n",
       "      <th>3</th>\n",
       "      <td>2023-09-20</td>\n",
       "      <td>25555.555556</td>\n",
       "      <td>0.964831</td>\n",
       "    </tr>\n",
       "    <tr>\n",
       "      <th>4</th>\n",
       "      <td>2023-12-20</td>\n",
       "      <td>25277.777778</td>\n",
       "      <td>0.953730</td>\n",
       "    </tr>\n",
       "    <tr>\n",
       "      <th>5</th>\n",
       "      <td>2024-03-20</td>\n",
       "      <td>25277.777778</td>\n",
       "      <td>0.942564</td>\n",
       "    </tr>\n",
       "    <tr>\n",
       "      <th>6</th>\n",
       "      <td>2024-06-20</td>\n",
       "      <td>25555.555556</td>\n",
       "      <td>0.934474</td>\n",
       "    </tr>\n",
       "    <tr>\n",
       "      <th>7</th>\n",
       "      <td>2024-09-20</td>\n",
       "      <td>25555.555556</td>\n",
       "      <td>0.923922</td>\n",
       "    </tr>\n",
       "    <tr>\n",
       "      <th>8</th>\n",
       "      <td>2024-12-20</td>\n",
       "      <td>25277.777778</td>\n",
       "      <td>0.919266</td>\n",
       "    </tr>\n",
       "    <tr>\n",
       "      <th>9</th>\n",
       "      <td>2025-03-20</td>\n",
       "      <td>25000.000000</td>\n",
       "      <td>0.909801</td>\n",
       "    </tr>\n",
       "    <tr>\n",
       "      <th>10</th>\n",
       "      <td>2025-06-20</td>\n",
       "      <td>25555.555556</td>\n",
       "      <td>0.900225</td>\n",
       "    </tr>\n",
       "    <tr>\n",
       "      <th>11</th>\n",
       "      <td>2025-09-22</td>\n",
       "      <td>26111.111111</td>\n",
       "      <td>0.890546</td>\n",
       "    </tr>\n",
       "    <tr>\n",
       "      <th>12</th>\n",
       "      <td>2025-12-22</td>\n",
       "      <td>25277.777778</td>\n",
       "      <td>0.892891</td>\n",
       "    </tr>\n",
       "    <tr>\n",
       "      <th>13</th>\n",
       "      <td>2026-03-20</td>\n",
       "      <td>24444.444444</td>\n",
       "      <td>0.884827</td>\n",
       "    </tr>\n",
       "    <tr>\n",
       "      <th>14</th>\n",
       "      <td>2026-06-22</td>\n",
       "      <td>26111.111111</td>\n",
       "      <td>0.876293</td>\n",
       "    </tr>\n",
       "    <tr>\n",
       "      <th>15</th>\n",
       "      <td>2026-09-21</td>\n",
       "      <td>25277.777778</td>\n",
       "      <td>0.868110</td>\n",
       "    </tr>\n",
       "    <tr>\n",
       "      <th>16</th>\n",
       "      <td>2026-12-21</td>\n",
       "      <td>25277.777778</td>\n",
       "      <td>0.868255</td>\n",
       "    </tr>\n",
       "    <tr>\n",
       "      <th>17</th>\n",
       "      <td>2027-03-22</td>\n",
       "      <td>25277.777778</td>\n",
       "      <td>0.860658</td>\n",
       "    </tr>\n",
       "    <tr>\n",
       "      <th>18</th>\n",
       "      <td>2027-06-21</td>\n",
       "      <td>25277.777778</td>\n",
       "      <td>0.853127</td>\n",
       "    </tr>\n",
       "    <tr>\n",
       "      <th>19</th>\n",
       "      <td>2027-09-20</td>\n",
       "      <td>25277.777778</td>\n",
       "      <td>0.845662</td>\n",
       "    </tr>\n",
       "    <tr>\n",
       "      <th>20</th>\n",
       "      <td>2027-12-20</td>\n",
       "      <td>25277.777778</td>\n",
       "      <td>0.844127</td>\n",
       "    </tr>\n",
       "  </tbody>\n",
       "</table>\n",
       "</div>"
      ],
      "text/plain": [
       "         Date  Act. Cashflow  Discount Factor\n",
       "0  2022-12-20   25277.777778         0.999882\n",
       "1  2023-03-20   25000.000000         0.988726\n",
       "2  2023-06-20   25555.555556         0.976653\n",
       "3  2023-09-20   25555.555556         0.964831\n",
       "4  2023-12-20   25277.777778         0.953730\n",
       "5  2024-03-20   25277.777778         0.942564\n",
       "6  2024-06-20   25555.555556         0.934474\n",
       "7  2024-09-20   25555.555556         0.923922\n",
       "8  2024-12-20   25277.777778         0.919266\n",
       "9  2025-03-20   25000.000000         0.909801\n",
       "10 2025-06-20   25555.555556         0.900225\n",
       "11 2025-09-22   26111.111111         0.890546\n",
       "12 2025-12-22   25277.777778         0.892891\n",
       "13 2026-03-20   24444.444444         0.884827\n",
       "14 2026-06-22   26111.111111         0.876293\n",
       "15 2026-09-21   25277.777778         0.868110\n",
       "16 2026-12-21   25277.777778         0.868255\n",
       "17 2027-03-22   25277.777778         0.860658\n",
       "18 2027-06-21   25277.777778         0.853127\n",
       "19 2027-09-20   25277.777778         0.845662\n",
       "20 2027-12-20   25277.777778         0.844127"
      ]
     },
     "execution_count": 11,
     "metadata": {},
     "output_type": "execute_result"
    }
   ],
   "source": [
    "cds.to_pandas(dc)"
   ]
  },
  {
   "cell_type": "code",
   "execution_count": 12,
   "id": "fb3d0595",
   "metadata": {},
   "outputs": [],
   "source": [
    "petroleos = CDS(10000000, traded_spread=595.9197, start_date=pd.Timestamp('20221219'), end_date=pd.Timestamp('20271220'), cash_date=pd.Timestamp('20221219'))"
   ]
  },
  {
   "cell_type": "code",
   "execution_count": 13,
   "id": "07a401e7",
   "metadata": {},
   "outputs": [
    {
     "data": {
      "text/plain": [
       "2252691.0337038557"
      ]
     },
     "execution_count": 13,
     "metadata": {},
     "output_type": "execute_result"
    }
   ],
   "source": [
    "petroleos.cash_amount(dc)"
   ]
  },
  {
   "cell_type": "code",
   "execution_count": 14,
   "id": "22a668c7",
   "metadata": {},
   "outputs": [
    {
     "data": {
      "text/html": [
       "<div>\n",
       "<style scoped>\n",
       "    .dataframe tbody tr th:only-of-type {\n",
       "        vertical-align: middle;\n",
       "    }\n",
       "\n",
       "    .dataframe tbody tr th {\n",
       "        vertical-align: top;\n",
       "    }\n",
       "\n",
       "    .dataframe thead th {\n",
       "        text-align: right;\n",
       "    }\n",
       "</style>\n",
       "<table border=\"1\" class=\"dataframe\">\n",
       "  <thead>\n",
       "    <tr style=\"text-align: right;\">\n",
       "      <th></th>\n",
       "      <th>Date</th>\n",
       "      <th>Act. Cashflow</th>\n",
       "      <th>Discount Factor</th>\n",
       "    </tr>\n",
       "  </thead>\n",
       "  <tbody>\n",
       "    <tr>\n",
       "      <th>0</th>\n",
       "      <td>2022-12-20</td>\n",
       "      <td>25277.777778</td>\n",
       "      <td>0.999882</td>\n",
       "    </tr>\n",
       "    <tr>\n",
       "      <th>1</th>\n",
       "      <td>2023-03-20</td>\n",
       "      <td>25000.000000</td>\n",
       "      <td>0.988726</td>\n",
       "    </tr>\n",
       "    <tr>\n",
       "      <th>2</th>\n",
       "      <td>2023-06-20</td>\n",
       "      <td>25555.555556</td>\n",
       "      <td>0.976653</td>\n",
       "    </tr>\n",
       "    <tr>\n",
       "      <th>3</th>\n",
       "      <td>2023-09-20</td>\n",
       "      <td>25555.555556</td>\n",
       "      <td>0.964831</td>\n",
       "    </tr>\n",
       "    <tr>\n",
       "      <th>4</th>\n",
       "      <td>2023-12-20</td>\n",
       "      <td>25277.777778</td>\n",
       "      <td>0.953730</td>\n",
       "    </tr>\n",
       "    <tr>\n",
       "      <th>5</th>\n",
       "      <td>2024-03-20</td>\n",
       "      <td>25277.777778</td>\n",
       "      <td>0.942564</td>\n",
       "    </tr>\n",
       "    <tr>\n",
       "      <th>6</th>\n",
       "      <td>2024-06-20</td>\n",
       "      <td>25555.555556</td>\n",
       "      <td>0.934474</td>\n",
       "    </tr>\n",
       "    <tr>\n",
       "      <th>7</th>\n",
       "      <td>2024-09-20</td>\n",
       "      <td>25555.555556</td>\n",
       "      <td>0.923922</td>\n",
       "    </tr>\n",
       "    <tr>\n",
       "      <th>8</th>\n",
       "      <td>2024-12-20</td>\n",
       "      <td>25277.777778</td>\n",
       "      <td>0.919266</td>\n",
       "    </tr>\n",
       "    <tr>\n",
       "      <th>9</th>\n",
       "      <td>2025-03-20</td>\n",
       "      <td>25000.000000</td>\n",
       "      <td>0.909801</td>\n",
       "    </tr>\n",
       "    <tr>\n",
       "      <th>10</th>\n",
       "      <td>2025-06-20</td>\n",
       "      <td>25555.555556</td>\n",
       "      <td>0.900225</td>\n",
       "    </tr>\n",
       "    <tr>\n",
       "      <th>11</th>\n",
       "      <td>2025-09-22</td>\n",
       "      <td>26111.111111</td>\n",
       "      <td>0.890546</td>\n",
       "    </tr>\n",
       "    <tr>\n",
       "      <th>12</th>\n",
       "      <td>2025-12-22</td>\n",
       "      <td>25277.777778</td>\n",
       "      <td>0.892891</td>\n",
       "    </tr>\n",
       "    <tr>\n",
       "      <th>13</th>\n",
       "      <td>2026-03-20</td>\n",
       "      <td>24444.444444</td>\n",
       "      <td>0.884827</td>\n",
       "    </tr>\n",
       "    <tr>\n",
       "      <th>14</th>\n",
       "      <td>2026-06-22</td>\n",
       "      <td>26111.111111</td>\n",
       "      <td>0.876293</td>\n",
       "    </tr>\n",
       "    <tr>\n",
       "      <th>15</th>\n",
       "      <td>2026-09-21</td>\n",
       "      <td>25277.777778</td>\n",
       "      <td>0.868110</td>\n",
       "    </tr>\n",
       "    <tr>\n",
       "      <th>16</th>\n",
       "      <td>2026-12-21</td>\n",
       "      <td>25277.777778</td>\n",
       "      <td>0.868255</td>\n",
       "    </tr>\n",
       "    <tr>\n",
       "      <th>17</th>\n",
       "      <td>2027-03-22</td>\n",
       "      <td>25277.777778</td>\n",
       "      <td>0.860658</td>\n",
       "    </tr>\n",
       "    <tr>\n",
       "      <th>18</th>\n",
       "      <td>2027-06-21</td>\n",
       "      <td>25277.777778</td>\n",
       "      <td>0.853127</td>\n",
       "    </tr>\n",
       "    <tr>\n",
       "      <th>19</th>\n",
       "      <td>2027-09-20</td>\n",
       "      <td>25277.777778</td>\n",
       "      <td>0.845662</td>\n",
       "    </tr>\n",
       "    <tr>\n",
       "      <th>20</th>\n",
       "      <td>2027-12-20</td>\n",
       "      <td>25277.777778</td>\n",
       "      <td>0.844127</td>\n",
       "    </tr>\n",
       "  </tbody>\n",
       "</table>\n",
       "</div>"
      ],
      "text/plain": [
       "         Date  Act. Cashflow  Discount Factor\n",
       "0  2022-12-20   25277.777778         0.999882\n",
       "1  2023-03-20   25000.000000         0.988726\n",
       "2  2023-06-20   25555.555556         0.976653\n",
       "3  2023-09-20   25555.555556         0.964831\n",
       "4  2023-12-20   25277.777778         0.953730\n",
       "5  2024-03-20   25277.777778         0.942564\n",
       "6  2024-06-20   25555.555556         0.934474\n",
       "7  2024-09-20   25555.555556         0.923922\n",
       "8  2024-12-20   25277.777778         0.919266\n",
       "9  2025-03-20   25000.000000         0.909801\n",
       "10 2025-06-20   25555.555556         0.900225\n",
       "11 2025-09-22   26111.111111         0.890546\n",
       "12 2025-12-22   25277.777778         0.892891\n",
       "13 2026-03-20   24444.444444         0.884827\n",
       "14 2026-06-22   26111.111111         0.876293\n",
       "15 2026-09-21   25277.777778         0.868110\n",
       "16 2026-12-21   25277.777778         0.868255\n",
       "17 2027-03-22   25277.777778         0.860658\n",
       "18 2027-06-21   25277.777778         0.853127\n",
       "19 2027-09-20   25277.777778         0.845662\n",
       "20 2027-12-20   25277.777778         0.844127"
      ]
     },
     "execution_count": 14,
     "metadata": {},
     "output_type": "execute_result"
    }
   ],
   "source": [
    "petroleos.to_pandas(dc)"
   ]
  },
  {
   "cell_type": "code",
   "execution_count": 15,
   "id": "d6dcfbca",
   "metadata": {},
   "outputs": [],
   "source": [
    "a = pd.Timestamp('20230430')\n",
    "b = pd.Timestamp('20230405')\n",
    "delta = pd.Timedelta(days = 182)"
   ]
  },
  {
   "cell_type": "code",
   "execution_count": 16,
   "id": "1fe398a8",
   "metadata": {},
   "outputs": [
    {
     "data": {
      "text/plain": [
       "25"
      ]
     },
     "execution_count": 16,
     "metadata": {},
     "output_type": "execute_result"
    }
   ],
   "source": [
    "(a-b).days"
   ]
  },
  {
   "cell_type": "code",
   "execution_count": 17,
   "id": "30fbbb5f",
   "metadata": {},
   "outputs": [
    {
     "data": {
      "text/plain": [
       "Timestamp('2022-04-06 00:00:00')"
      ]
     },
     "execution_count": 17,
     "metadata": {},
     "output_type": "execute_result"
    }
   ],
   "source": [
    "b - 2*delta"
   ]
  },
  {
   "cell_type": "code",
   "execution_count": 18,
   "id": "4c44511d",
   "metadata": {},
   "outputs": [
    {
     "data": {
      "text/plain": [
       "0      3\n",
       "1      3\n",
       "2      3\n",
       "3      3\n",
       "4      3\n",
       "5      3\n",
       "6      3\n",
       "7      3\n",
       "8    103\n",
       "dtype: int64"
      ]
     },
     "execution_count": 18,
     "metadata": {},
     "output_type": "execute_result"
    }
   ],
   "source": [
    "pd.Series([3]*8 + [3+100])"
   ]
  },
  {
   "cell_type": "code",
   "execution_count": 19,
   "id": "6f03c8c5",
   "metadata": {},
   "outputs": [
    {
     "data": {
      "text/plain": [
       "array([0.95238095, 0.92942864, 0.90702948, 0.88517013])"
      ]
     },
     "execution_count": 19,
     "metadata": {},
     "output_type": "execute_result"
    }
   ],
   "source": [
    "a = np.array([1,1.5,2,2.5])\n",
    "1.05**(-a)"
   ]
  },
  {
   "cell_type": "code",
   "execution_count": 20,
   "id": "226c9389",
   "metadata": {},
   "outputs": [
    {
     "data": {
      "text/plain": [
       "array([1. , 1.5, 2. , 2.5])"
      ]
     },
     "execution_count": 20,
     "metadata": {},
     "output_type": "execute_result"
    }
   ],
   "source": [
    "np.array(pd.Series(a))"
   ]
  },
  {
   "cell_type": "code",
   "execution_count": 21,
   "id": "69e16544",
   "metadata": {},
   "outputs": [
    {
     "data": {
      "text/plain": [
       "pandas._libs.tslibs.timestamps.Timestamp"
      ]
     },
     "execution_count": 21,
     "metadata": {},
     "output_type": "execute_result"
    }
   ],
   "source": [
    "a = pd.Timestamp('20230430')\n",
    "b = pd.Timestamp('20230405')\n",
    "type(np.array(np.array([a,b]))[0])"
   ]
  },
  {
   "cell_type": "code",
   "execution_count": 22,
   "id": "bc72b82d",
   "metadata": {},
   "outputs": [],
   "source": [
    "import pandas as pd\n",
    "from MexBonds import Cetes, MBonos\n",
    "from Bootstrap import Bootstrap\n",
    "\n",
    "bonos = pd.read_excel('prueba_bootstrap_bonos.xlsx', 'Bonos')"
   ]
  },
  {
   "cell_type": "code",
   "execution_count": 23,
   "id": "e86b7f11",
   "metadata": {},
   "outputs": [],
   "source": [
    "fecha = pd.Timestamp('20230405')\n",
    "lista_bonos = []\n",
    "precios = []\n",
    "fechas = [fecha]"
   ]
  },
  {
   "cell_type": "code",
   "execution_count": 24,
   "id": "c042d5c7",
   "metadata": {},
   "outputs": [],
   "source": [
    "for i in range(len(bonos)):\n",
    "    fechas.append(bonos['Vencimiento'].iloc[i])\n",
    "    if bonos['Tipo valor'].iloc[i] == 'BI':\n",
    "        lista_bonos.append(Cetes(bonos['Vencimiento'].iloc[i], bonos['Tasa'].iloc[i]))\n",
    "    elif bonos['Tipo valor'].iloc[i] == 'M':\n",
    "        lista_bonos.append(MBonos(bonos['Vencimiento'].iloc[i], bonos['Tasa'].iloc[i], bonos['Cupon'].iloc[i], fecha))\n",
    "\n",
    "for i in range(len(bonos)):\n",
    "    precios.append(lista_bonos[i].price(fecha))"
   ]
  },
  {
   "cell_type": "code",
   "execution_count": 25,
   "id": "2aff02d7",
   "metadata": {},
   "outputs": [],
   "source": [
    "bootstrap = Bootstrap(lista_bonos, precios, fechas, fecha)"
   ]
  },
  {
   "cell_type": "code",
   "execution_count": 26,
   "id": "9ec513ce",
   "metadata": {},
   "outputs": [],
   "source": [
    "#bootstrap.fit()"
   ]
  },
  {
   "cell_type": "code",
   "execution_count": 30,
   "id": "43c45ca8",
   "metadata": {},
   "outputs": [
    {
     "ename": "SyntaxError",
     "evalue": "invalid syntax (Temp/ipykernel_13676/2639108741.py, line 1)",
     "output_type": "error",
     "traceback": [
      "\u001b[1;36m  File \u001b[1;32m\"C:\\Users\\eliah\\AppData\\Local\\Temp/ipykernel_13676/2639108741.py\"\u001b[1;36m, line \u001b[1;32m1\u001b[0m\n\u001b[1;33m    Zero Rate\u001b[0m\n\u001b[1;37m         ^\u001b[0m\n\u001b[1;31mSyntaxError\u001b[0m\u001b[1;31m:\u001b[0m invalid syntax\n"
     ]
    }
   ],
   "source": [
    "\"\"\"\n",
    "             Zero Rate\n",
    "2023-04-05   0.000367\n",
    "2023-04-13   0.118728\n",
    "2023-04-20   0.126180\n",
    "2023-04-27   0.091738\n",
    "2023-05-04   0.106801\n",
    "2023-05-11   0.112286\n",
    "2023-05-18   0.101041\n",
    "2023-05-25   0.108372\n",
    "2023-06-01   0.125197\n",
    "2023-06-08   0.129422\n",
    "2023-06-15   0.126045\n",
    "2023-06-22   0.113973\n",
    "2023-06-29   0.126380\n",
    "2023-07-06   0.110840\n",
    "2023-07-13   0.118922\n",
    "2023-07-27   0.122100\n",
    "2023-08-10   0.123193\n",
    "2023-08-24   0.118616\n",
    "2023-09-07   0.125717\n",
    "2023-09-21   0.115482\n",
    "2023-10-05   0.113750\n",
    "2023-10-19   0.124785\n",
    "2023-11-16   0.117077\n",
    "2023-12-07   0.112697\n",
    "2023-12-14   0.117039\n",
    "2024-01-11   0.114880\n",
    "2024-02-08   0.117988\n",
    "2024-03-07   0.116304\n",
    "2024-04-04   0.114559\n",
    "2024-09-05   0.106337\n",
    "2024-10-03   0.106616\n",
    "2024-11-28   0.105352\n",
    "2024-12-05   0.102848\n",
    "2025-01-23   0.102938\n",
    "2025-02-06   0.102430\n",
    "2025-03-06   0.101261\n",
    "2025-03-20   0.101726\n",
    "2026-03-05   0.093843\n",
    "2027-03-04   0.089248\n",
    "2027-06-03   0.087694\n",
    "2029-05-31   0.086108\n",
    "2031-05-29   0.086705\n",
    "2033-05-26   0.086830\n",
    "2034-11-23   0.085779\n",
    "2036-11-20   0.085054\n",
    "2038-11-18   0.089437\n",
    "2042-11-13   0.089872\n",
    "2047-11-07   0.089608\n",
    "2053-07-31   0.089177\n",
    "\"\"\""
   ]
  },
  {
   "cell_type": "code",
   "execution_count": 40,
   "id": "bd104cb7",
   "metadata": {},
   "outputs": [
    {
     "data": {
      "text/plain": [
       "0.12438283339975845"
      ]
     },
     "execution_count": 40,
     "metadata": {},
     "output_type": "execute_result"
    }
   ],
   "source": [
    "(np.exp(0.0867321674895915*2976/365)-1)*360/2976"
   ]
  },
  {
   "cell_type": "code",
   "execution_count": 39,
   "id": "b46259d0",
   "metadata": {},
   "outputs": [
    {
     "data": {
      "text/plain": [
       "2976"
      ]
     },
     "execution_count": 39,
     "metadata": {},
     "output_type": "execute_result"
    }
   ],
   "source": [
    "(pd.Timestamp('20310529') - pd.Timestamp('20230405')).days"
   ]
  },
  {
   "cell_type": "code",
   "execution_count": 1,
   "id": "42800abb",
   "metadata": {},
   "outputs": [],
   "source": [
    "\n",
    "from scipy.interpolate import interp1d"
   ]
  },
  {
   "cell_type": "code",
   "execution_count": 5,
   "id": "a8f34f67",
   "metadata": {},
   "outputs": [
    {
     "ename": "ValueError",
     "evalue": "x and y arrays must have at least 2 entries",
     "output_type": "error",
     "traceback": [
      "\u001b[1;31m---------------------------------------------------------------------------\u001b[0m",
      "\u001b[1;31mValueError\u001b[0m                                Traceback (most recent call last)",
      "\u001b[1;32m~\\AppData\\Local\\Temp/ipykernel_12996/1499892993.py\u001b[0m in \u001b[0;36m<module>\u001b[1;34m\u001b[0m\n\u001b[1;32m----> 1\u001b[1;33m \u001b[0minterp\u001b[0m \u001b[1;33m=\u001b[0m \u001b[0minterp1d\u001b[0m\u001b[1;33m(\u001b[0m\u001b[1;33m[\u001b[0m\u001b[1;36m0\u001b[0m\u001b[1;33m]\u001b[0m\u001b[1;33m,\u001b[0m \u001b[1;33m[\u001b[0m\u001b[1;36m3\u001b[0m\u001b[1;33m]\u001b[0m\u001b[1;33m)\u001b[0m\u001b[1;33m\u001b[0m\u001b[1;33m\u001b[0m\u001b[0m\n\u001b[0m",
      "\u001b[1;32m~\\anaconda3\\lib\\site-packages\\scipy\\interpolate\\interpolate.py\u001b[0m in \u001b[0;36m__init__\u001b[1;34m(***failed resolving arguments***)\u001b[0m\n\u001b[0;32m    559\u001b[0m \u001b[1;33m\u001b[0m\u001b[0m\n\u001b[0;32m    560\u001b[0m         \u001b[1;32mif\u001b[0m \u001b[0mlen\u001b[0m\u001b[1;33m(\u001b[0m\u001b[0mself\u001b[0m\u001b[1;33m.\u001b[0m\u001b[0mx\u001b[0m\u001b[1;33m)\u001b[0m \u001b[1;33m<\u001b[0m \u001b[0mminval\u001b[0m\u001b[1;33m:\u001b[0m\u001b[1;33m\u001b[0m\u001b[1;33m\u001b[0m\u001b[0m\n\u001b[1;32m--> 561\u001b[1;33m             raise ValueError(\"x and y arrays must have at \"\n\u001b[0m\u001b[0;32m    562\u001b[0m                              \"least %d entries\" % minval)\n\u001b[0;32m    563\u001b[0m \u001b[1;33m\u001b[0m\u001b[0m\n",
      "\u001b[1;31mValueError\u001b[0m: x and y arrays must have at least 2 entries"
     ]
    }
   ],
   "source": [
    "interp = interp1d([0], [3])"
   ]
  },
  {
   "cell_type": "code",
   "execution_count": 17,
   "id": "22afdca3",
   "metadata": {},
   "outputs": [
    {
     "data": {
      "text/html": [
       "<div>\n",
       "<style scoped>\n",
       "    .dataframe tbody tr th:only-of-type {\n",
       "        vertical-align: middle;\n",
       "    }\n",
       "\n",
       "    .dataframe tbody tr th {\n",
       "        vertical-align: top;\n",
       "    }\n",
       "\n",
       "    .dataframe thead th {\n",
       "        text-align: right;\n",
       "    }\n",
       "</style>\n",
       "<table border=\"1\" class=\"dataframe\">\n",
       "  <thead>\n",
       "    <tr style=\"text-align: right;\">\n",
       "      <th></th>\n",
       "      <th></th>\n",
       "      <th>a</th>\n",
       "    </tr>\n",
       "  </thead>\n",
       "  <tbody>\n",
       "    <tr>\n",
       "      <th>foo</th>\n",
       "      <th>0</th>\n",
       "      <td>1</td>\n",
       "    </tr>\n",
       "  </tbody>\n",
       "</table>\n",
       "</div>"
      ],
      "text/plain": [
       "       a\n",
       "foo 0  1"
      ]
     },
     "execution_count": 17,
     "metadata": {},
     "output_type": "execute_result"
    }
   ],
   "source": [
    "index = pd.MultiIndex.from_tuples([('foo', 0)])\n",
    "df = pd.DataFrame([[1]], columns=['a'], index=index)\n",
    "df"
   ]
  },
  {
   "cell_type": "code",
   "execution_count": 10,
   "id": "282eba78",
   "metadata": {},
   "outputs": [
    {
     "ename": "ValueError",
     "evalue": "The truth value of a Series is ambiguous. Use a.empty, a.bool(), a.item(), a.any() or a.all().",
     "output_type": "error",
     "traceback": [
      "\u001b[1;31m---------------------------------------------------------------------------\u001b[0m",
      "\u001b[1;31mValueError\u001b[0m                                Traceback (most recent call last)",
      "\u001b[1;32m~\\AppData\\Local\\Temp/ipykernel_23780/318842641.py\u001b[0m in \u001b[0;36m<module>\u001b[1;34m\u001b[0m\n\u001b[1;32m----> 1\u001b[1;33m \u001b[1;32mif\u001b[0m \u001b[0mdf\u001b[0m\u001b[1;33m[\u001b[0m\u001b[1;34m'a'\u001b[0m\u001b[1;33m]\u001b[0m \u001b[1;32min\u001b[0m \u001b[1;33m[\u001b[0m\u001b[1;36m1\u001b[0m\u001b[1;33m,\u001b[0m\u001b[1;36m4\u001b[0m\u001b[1;33m]\u001b[0m\u001b[1;33m:\u001b[0m\u001b[1;33m\u001b[0m\u001b[1;33m\u001b[0m\u001b[0m\n\u001b[0m\u001b[0;32m      2\u001b[0m     \u001b[0mprint\u001b[0m\u001b[1;33m(\u001b[0m\u001b[1;34m'True'\u001b[0m\u001b[1;33m)\u001b[0m\u001b[1;33m\u001b[0m\u001b[1;33m\u001b[0m\u001b[0m\n",
      "\u001b[1;32m~\\anaconda3\\lib\\site-packages\\pandas\\core\\generic.py\u001b[0m in \u001b[0;36m__nonzero__\u001b[1;34m(self)\u001b[0m\n\u001b[0;32m   1535\u001b[0m     \u001b[1;33m@\u001b[0m\u001b[0mfinal\u001b[0m\u001b[1;33m\u001b[0m\u001b[1;33m\u001b[0m\u001b[0m\n\u001b[0;32m   1536\u001b[0m     \u001b[1;32mdef\u001b[0m \u001b[0m__nonzero__\u001b[0m\u001b[1;33m(\u001b[0m\u001b[0mself\u001b[0m\u001b[1;33m)\u001b[0m\u001b[1;33m:\u001b[0m\u001b[1;33m\u001b[0m\u001b[1;33m\u001b[0m\u001b[0m\n\u001b[1;32m-> 1537\u001b[1;33m         raise ValueError(\n\u001b[0m\u001b[0;32m   1538\u001b[0m             \u001b[1;34mf\"The truth value of a {type(self).__name__} is ambiguous. \"\u001b[0m\u001b[1;33m\u001b[0m\u001b[1;33m\u001b[0m\u001b[0m\n\u001b[0;32m   1539\u001b[0m             \u001b[1;34m\"Use a.empty, a.bool(), a.item(), a.any() or a.all().\"\u001b[0m\u001b[1;33m\u001b[0m\u001b[1;33m\u001b[0m\u001b[0m\n",
      "\u001b[1;31mValueError\u001b[0m: The truth value of a Series is ambiguous. Use a.empty, a.bool(), a.item(), a.any() or a.all()."
     ]
    }
   ],
   "source": [
    "if df.loc[0,'a'] in [1,4]:\n",
    "    print('True')"
   ]
  },
  {
   "cell_type": "code",
   "execution_count": 22,
   "id": "60226246",
   "metadata": {},
   "outputs": [
    {
     "data": {
      "text/plain": [
       "1"
      ]
     },
     "execution_count": 22,
     "metadata": {},
     "output_type": "execute_result"
    }
   ],
   "source": [
    "df.loc[('foo', 0), 'a']"
   ]
  },
  {
   "cell_type": "code",
   "execution_count": null,
   "id": "6e99667e",
   "metadata": {},
   "outputs": [],
   "source": []
  }
 ],
 "metadata": {
  "kernelspec": {
   "display_name": "Python 3",
   "language": "python",
   "name": "python3"
  },
  "language_info": {
   "codemirror_mode": {
    "name": "ipython",
    "version": 3
   },
   "file_extension": ".py",
   "mimetype": "text/x-python",
   "name": "python",
   "nbconvert_exporter": "python",
   "pygments_lexer": "ipython3",
   "version": "3.10.4"
  }
 },
 "nbformat": 4,
 "nbformat_minor": 5
}
