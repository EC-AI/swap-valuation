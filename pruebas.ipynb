{
 "cells": [
  {
   "cell_type": "code",
   "execution_count": 1,
   "metadata": {},
   "outputs": [],
   "source": [
    "from MexBonds import Cetes, MBonos, UDIBonos\n",
    "import pandas as pd\n",
    "from numpy import log"
   ]
  },
  {
   "cell_type": "code",
   "execution_count": 2,
   "metadata": {},
   "outputs": [],
   "source": [
    "vencimiento = pd.Timestamp(\"20340206\")\n",
    "fecha_v = pd.Timestamp(\"20240219\")\n",
    "tasa = 0.0493\n",
    "banorte = UDIBonos(vencimiento, tasa, tasa, fecha_v)"
   ]
  },
  {
   "cell_type": "code",
   "execution_count": 3,
   "metadata": {},
   "outputs": [
    {
     "data": {
      "text/plain": [
       "(810.0842999999988, 810.7235072027635)"
      ]
     },
     "execution_count": 3,
     "metadata": {},
     "output_type": "execute_result"
    }
   ],
   "source": [
    "udi_liq = 8.100843\n",
    "p1 = banorte.price(fecha_v, tasa, currency='MXN', UDI=udi_liq)\n",
    "p2 = banorte.price(fecha_v, tasa-0.0001, currency='MXN', UDI=udi_liq)\n",
    "(p1, p2)"
   ]
  },
  {
   "cell_type": "code",
   "execution_count": 4,
   "metadata": {},
   "outputs": [
    {
     "data": {
      "text/plain": [
       "0.6392072027646236"
      ]
     },
     "execution_count": 4,
     "metadata": {},
     "output_type": "execute_result"
    }
   ],
   "source": [
    "dif = p2-p1\n",
    "dif"
   ]
  },
  {
   "cell_type": "code",
   "execution_count": 5,
   "metadata": {},
   "outputs": [
    {
     "data": {
      "text/plain": [
       "1851659.1421411354"
      ]
     },
     "execution_count": 5,
     "metadata": {},
     "output_type": "execute_result"
    }
   ],
   "source": [
    "ntitulos = 1500000000/p1\n",
    "ntitulos"
   ]
  },
  {
   "cell_type": "code",
   "execution_count": 6,
   "metadata": {},
   "outputs": [
    {
     "data": {
      "text/plain": [
       "1183593.8607215777"
      ]
     },
     "execution_count": 6,
     "metadata": {},
     "output_type": "execute_result"
    }
   ],
   "source": [
    "ntitulos*dif"
   ]
  },
  {
   "cell_type": "code",
   "execution_count": 7,
   "metadata": {},
   "outputs": [
    {
     "data": {
      "text/plain": [
       "819.0122081966975"
      ]
     },
     "execution_count": 7,
     "metadata": {},
     "output_type": "execute_result"
    }
   ],
   "source": [
    "udi35 = UDIBonos(pd.Timestamp(\"20351122\"), 0.0448, 0.045, fecha_v)\n",
    "udi35.price(UDI=udi_liq)"
   ]
  },
  {
   "cell_type": "code",
   "execution_count": 8,
   "metadata": {},
   "outputs": [
    {
     "ename": "TypeError",
     "evalue": "unsupported operand type(s) for *: 'float' and 'NoneType'",
     "output_type": "error",
     "traceback": [
      "\u001b[1;31m---------------------------------------------------------------------------\u001b[0m",
      "\u001b[1;31mTypeError\u001b[0m                                 Traceback (most recent call last)",
      "Cell \u001b[1;32mIn[8], line 1\u001b[0m\n\u001b[1;32m----> 1\u001b[0m \u001b[43mudi35\u001b[49m\u001b[38;5;241;43m.\u001b[39;49m\u001b[43mdv01\u001b[49m\u001b[43m(\u001b[49m\u001b[43m)\u001b[49m\n",
      "File \u001b[1;32mc:\\Users\\eliah\\Documents\\Banorte\\swap-valuation\\Bonds.py:47\u001b[0m, in \u001b[0;36mFixedPaymentsBond.dv01\u001b[1;34m(self, valuation_date, rate)\u001b[0m\n\u001b[0;32m     45\u001b[0m rate_plus \u001b[38;5;241m=\u001b[39m rate \u001b[38;5;241m+\u001b[39m \u001b[38;5;241m0.0001\u001b[39m\n\u001b[0;32m     46\u001b[0m rate_minus \u001b[38;5;241m=\u001b[39m rate \u001b[38;5;241m-\u001b[39m \u001b[38;5;241m0.0001\u001b[39m\n\u001b[1;32m---> 47\u001b[0m p_plus \u001b[38;5;241m=\u001b[39m \u001b[38;5;28;43mself\u001b[39;49m\u001b[38;5;241;43m.\u001b[39;49m\u001b[43mprice\u001b[49m\u001b[43m(\u001b[49m\u001b[43mvaluation_date\u001b[49m\u001b[43m,\u001b[49m\u001b[43m \u001b[49m\u001b[43mrate_plus\u001b[49m\u001b[43m)\u001b[49m\n\u001b[0;32m     48\u001b[0m p_minus \u001b[38;5;241m=\u001b[39m \u001b[38;5;28mself\u001b[39m\u001b[38;5;241m.\u001b[39mprice(valuation_date, rate_minus)\n\u001b[0;32m     49\u001b[0m \u001b[38;5;28;01mreturn\u001b[39;00m (p_minus \u001b[38;5;241m-\u001b[39m p_plus) \u001b[38;5;241m/\u001b[39m \u001b[38;5;241m2\u001b[39m\n",
      "File \u001b[1;32mc:\\Users\\eliah\\Documents\\Banorte\\swap-valuation\\MexBonds.py:70\u001b[0m, in \u001b[0;36mUDIBonos.price\u001b[1;34m(self, valuation_date, rate, currency, UDI)\u001b[0m\n\u001b[0;32m     68\u001b[0m     \u001b[38;5;28;01mreturn\u001b[39;00m udi_price\n\u001b[0;32m     69\u001b[0m \u001b[38;5;28;01melif\u001b[39;00m currency \u001b[38;5;241m==\u001b[39m \u001b[38;5;124m'\u001b[39m\u001b[38;5;124mMXN\u001b[39m\u001b[38;5;124m'\u001b[39m:\n\u001b[1;32m---> 70\u001b[0m     \u001b[38;5;28;01mreturn\u001b[39;00m \u001b[43mudi_price\u001b[49m\u001b[43m \u001b[49m\u001b[38;5;241;43m*\u001b[39;49m\u001b[43m \u001b[49m\u001b[43mUDI\u001b[49m\n\u001b[0;32m     71\u001b[0m \u001b[38;5;28;01melse\u001b[39;00m:\n\u001b[0;32m     72\u001b[0m     \u001b[38;5;28;01mraise\u001b[39;00m \u001b[38;5;167;01mValueError\u001b[39;00m(\u001b[38;5;124m'\u001b[39m\u001b[38;5;124mCurrency can only be MXN or UDI\u001b[39m\u001b[38;5;124m'\u001b[39m)\n",
      "\u001b[1;31mTypeError\u001b[0m: unsupported operand type(s) for *: 'float' and 'NoneType'"
     ]
    }
   ],
   "source": [
    "udi35.dv01()"
   ]
  },
  {
   "cell_type": "code",
   "execution_count": null,
   "metadata": {},
   "outputs": [],
   "source": []
  }
 ],
 "metadata": {
  "kernelspec": {
   "display_name": "Python 3",
   "language": "python",
   "name": "python3"
  },
  "language_info": {
   "codemirror_mode": {
    "name": "ipython",
    "version": 3
   },
   "file_extension": ".py",
   "mimetype": "text/x-python",
   "name": "python",
   "nbconvert_exporter": "python",
   "pygments_lexer": "ipython3",
   "version": "3.10.4"
  }
 },
 "nbformat": 4,
 "nbformat_minor": 2
}
